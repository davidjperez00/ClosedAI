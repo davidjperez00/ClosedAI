{
 "cells": [
  {
   "attachments": {},
   "cell_type": "markdown",
   "metadata": {},
   "source": [
    "# Validation and Evaluation"
   ]
  },
  {
   "cell_type": "code",
   "execution_count": null,
   "metadata": {},
   "outputs": [],
   "source": [
    "import tensorflow as tf\n",
    "from tensorflow import keras\n",
    "import numpy as np\n",
    "import matplotlib.pyplot as plt\n",
    "import matplotlib as mpl\n",
    "import util\n",
    "import pickle\n",
    "import model as model_file\n"
   ]
  },
  {
   "cell_type": "markdown",
   "metadata": {},
   "source": [
    "### Load the model / get summary"
   ]
  },
  {
   "cell_type": "code",
   "execution_count": null,
   "metadata": {},
   "outputs": [],
   "source": [
    "model = tf.keras.models.load_model('path_to_model') #CHANGE TO MODEL PATH\n",
    "model.summary()"
   ]
  },
  {
   "cell_type": "code",
   "execution_count": null,
   "metadata": {},
   "outputs": [],
   "source": [
    "test_set=\"\" #CHANGE TO TEST SET PATH\n",
    "test_loss, test_acc = model.evaluate(test_set) \n"
   ]
  },
  {
   "attachments": {},
   "cell_type": "markdown",
   "metadata": {},
   "source": [
    "### Make predictions on a single image\n"
   ]
  },
  {
   "cell_type": "code",
   "execution_count": null,
   "metadata": {},
   "outputs": [],
   "source": [
    "image = np.array(Image.open('path_to_image')) #CHANGE TO IMAGE PATH\n",
    "image = tf.image.resize(image, [128, 128])\n",
    "prediction = model.predict(tf.expand_dims(image, axis=0))\n",
    "plt.imshow(image)\n",
    "plt.show()\n",
    "print('Prediction:', prediction)"
   ]
  },
  {
   "attachments": {},
   "cell_type": "markdown",
   "metadata": {},
   "source": [
    "### Visualize the learned features of the model\n"
   ]
  },
  {
   "cell_type": "code",
   "execution_count": null,
   "metadata": {},
   "outputs": [],
   "source": [
    "conv_layer = model.get_layer('conv_layer')\n",
    "filters, biases = conv_layer.get_weights()\n",
    "plt.figure(figsize=(10,10))\n",
    "for i in range(filters.shape[3]):\n",
    "    plt.subplot(6, 6, i+1)\n",
    "    plt.xticks([])\n",
    "    plt.yticks([])\n",
    "    plt.imshow(filters[:, :, 0, i], cmap='gray')\n",
    "plt.show()"
   ]
  },
  {
   "attachments": {},
   "cell_type": "markdown",
   "metadata": {},
   "source": [
    "### Visualize the model's predictions on a set of test images\n"
   ]
  },
  {
   "cell_type": "code",
   "execution_count": null,
   "metadata": {},
   "outputs": [],
   "source": [
    "predictions = model.predict(test_set) \n",
    "for i in range(10):\n",
    "    image, label = test_set[i]\n",
    "    prediction = np.argmax(predictions[i])\n",
    "    plt.imshow(image)\n",
    "    plt.title(f\"True: {label} / Predicted: {prediction}\")\n",
    "    plt.show()"
   ]
  },
  {
   "cell_type": "code",
   "execution_count": null,
   "metadata": {},
   "outputs": [],
   "source": [
    "def plot_loss_learning_curves(loss, val_loss):\n",
    "  plt.plot(np.arange(len(loss)) + 0.5, loss, \"b.-\", label=\"Training loss\")\n",
    "  plt.plot(np.arange(len(val_loss)) + 1, val_loss, \"r.-\", label=\"Validation loss\")\n",
    "  plt.gca().xaxis.set_major_locator(mpl.ticker.MaxNLocator(integer=True))\n",
    "  # plt.axis([1, 20, 0, 0.05])\n",
    "  plt.legend(fontsize=14)\n",
    "  plt.xlabel(\"Epochs\")\n",
    "  plt.ylabel(\"Loss\")\n",
    "  plt.grid(True)\n",
    "\n",
    "def plot_accuracy_learning_curves(loss, val_loss):\n",
    "  plt.plot(np.arange(len(loss)) + 0.5, loss, \"b.-\", label=\"Training Accuracy\")\n",
    "  plt.plot(np.arange(len(val_loss)) + 1, val_loss, \"r.-\", label=\"Validation Accuracy\")\n",
    "  plt.gca().xaxis.set_major_locator(mpl.ticker.MaxNLocator(integer=True))\n",
    "  # plt.axis([1, 20, 0, 0.05])\n",
    "  plt.legend(fontsize=14)\n",
    "  plt.xlabel(\"Epochs\")\n",
    "  plt.ylabel(\"Accuracy\")\n",
    "  plt.grid(True)\n",
    "  \n",
    "  def load_pkl_model_history(file_name):\n",
    "    with open(file_name, \"rb\") as file_pi:\n",
    "      history = pickle.load(file_pi)\n",
    "    return history"
   ]
  },
  {
   "attachments": {},
   "cell_type": "markdown",
   "metadata": {},
   "source": [
    "### Plot Loss & Accuracy\n"
   ]
  },
  {
   "cell_type": "code",
   "execution_count": null,
   "metadata": {},
   "outputs": [],
   "source": [
    "\n",
    "model_history = load_pkl_model_history(\"\") #CHANGE TO MODEL HISTORY PATH\n",
    "\n",
    "plot_loss_learning_curves(model_history[\"loss\"], model_history[\"val_loss\"])\n",
    "plt.show()\n",
    "\n",
    "plot_accuracy_learning_curves(model_history[\"accuracy\"], model_history[\"val_accuracy\"])\n",
    "plt.show()"
   ]
  }
 ],
 "metadata": {
  "language_info": {
   "name": "python"
  },
  "orig_nbformat": 4
 },
 "nbformat": 4,
 "nbformat_minor": 2
}
